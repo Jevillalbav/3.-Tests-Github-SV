{
 "cells": [
  {
   "cell_type": "code",
   "execution_count": 1,
   "metadata": {},
   "outputs": [],
   "source": [
    "import pandas as pd\n",
    "import numpy as np\n",
    "import matplotlib.pyplot as plt\n",
    "import seaborn as sns\n",
    "import sklearn as sk\n"
   ]
  },
  {
   "cell_type": "markdown",
   "metadata": {},
   "source": [
    "# **Crypto Market Analysis with LLMs**\n",
    "\n",
    "## **What’s the Goal?**\n",
    "You’re the data scientist for a crypto-investment company. Your mission? Analyze news about cryptocurrencies to uncover:\n",
    "- **What’s being said?**\n",
    "- **What type of information is trending?**\n",
    "- **How does it influence Bitcoin's price?**\n",
    "\n",
    "The dataset `data/news_btc.csv` holds articles with dates. However, **Bitcoin’s price data is missing!** To connect the dots, we’ll need to pull price data using a basic API and combine it with the news to unlock deeper insights.\n",
    "\n",
    "---\n",
    "\n",
    "## **What You’ll Deliver**\n",
    "A **Jupyter Notebook** with:\n",
    "1. **News Analysis**  \n",
    "   Use LLMs to analyze articles (or a sample). Think of doing a sentiment analysis, trend detection, rumors etc.\n",
    "\n",
    "2. **Bitcoin Price Integration**  \n",
    "   Fetch Bitcoin’s historical price data from an API and merge it with the news dataset to explore relationships.\n",
    "\n",
    "3. **Insights for Action**  \n",
    "   Spot trends, segment articles, link news to price changes, and find insights that matter for decision-making.\n",
    "\n",
    "4. **Conclusions**  \n",
    "   Wrap it up with results and actionable recommendations.\n",
    "\n",
    "---\n",
    "\n",
    "## **Quick Tips**\n",
    "- Use LLMs to analyze text (sentiment, trends, etc.).\n",
    "- Fetch Bitcoin price data via a simple API (e.g., CoinGecko, CryptoCompare) and join it with your dataset.\n",
    "- Visualize relationships between news and price movements. Think: \"Did this news spike Bitcoin's price?\"\n",
    "- Make it actionable, creative, and fun to explore.\n",
    "\n",
    "The crypto market is full of noise—your job is to turn it into signals and insights!\n"
   ]
  }
 ],
 "metadata": {
  "kernelspec": {
   "display_name": "torch_gpu",
   "language": "python",
   "name": "python3"
  },
  "language_info": {
   "codemirror_mode": {
    "name": "ipython",
    "version": 3
   },
   "file_extension": ".py",
   "mimetype": "text/x-python",
   "name": "python",
   "nbconvert_exporter": "python",
   "pygments_lexer": "ipython3",
   "version": "3.8.20"
  }
 },
 "nbformat": 4,
 "nbformat_minor": 2
}
